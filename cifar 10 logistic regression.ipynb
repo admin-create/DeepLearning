{
 "cells": [
  {
   "cell_type": "code",
   "execution_count": null,
   "metadata": {},
   "outputs": [],
   "source": []
  },
  {
   "cell_type": "code",
   "execution_count": 200,
   "metadata": {},
   "outputs": [
    {
     "name": "stdout",
     "output_type": "stream",
     "text": [
      "(3072, 10000)\n",
      "[0.23137255 0.16862745 0.19607843 ... 0.54901961 0.32941176 0.28235294]\n",
      "(1, 10000)\n",
      "(1, 10000)\n"
     ]
    }
   ],
   "source": [
    "#from load_cifar import *\n",
    "import numpy as np\n",
    "\n",
    "#imagearray, labelarray = load_batch()\n",
    "#train_set_x, train_set_y, test_set_x, test_set_y = create_datasets(imagearray, labelarray)\n",
    "def unpickle(file):\n",
    "    import pickle\n",
    "    with open(file, 'rb') as fo:\n",
    "        dict = pickle.load(fo, encoding='bytes')\n",
    "    return dict\n",
    "#---------------------------------------------------------\n",
    "dict = unpickle('cifar-10-batches-py/data_batch_1')\n",
    "image = dict[b'data']\n",
    "label = dict[b'labels']\n",
    "x_train = np.array(image)\n",
    "y_train = np.array(label)\n",
    "\n",
    "y_train = np.empty((1,10000),dtype=np.int16)\n",
    "i = 0\n",
    "j = 0\n",
    "while (j < 9999):               \n",
    "    if (label[i] == 3):    \n",
    "        y_train[0,j] = 1    \n",
    "        j+=1\n",
    "    elif (label[i] != 3):   \n",
    "        y_train[0,j] = 0    \n",
    "        j+=1\n",
    "    i+=1\n",
    "#------------------------------------------------\n",
    "dict = unpickle('cifar-10-batches-py/test_batch')\n",
    "image = dict[b'data']\n",
    "label = dict[b'labels']\n",
    "x_test = np.array(image)\n",
    "y_test = np.array(label)\n",
    "\n",
    "y_test = np.empty((1,10000),dtype=np.int16)\n",
    "i = 0\n",
    "j = 0\n",
    "while (j < 9999):               \n",
    "    if (label[i] == 3):    \n",
    "        y_test[0,j] = 1    \n",
    "        j+=1\n",
    "    elif (label[i] != 3):   \n",
    "        y_test[0,j] = 0    \n",
    "        j+=1\n",
    "    i+=1\n",
    "#---------------------------------------------------\n",
    "x_test = x_test.T\n",
    "x_train = x_train.T\n",
    "\n",
    "x_test = x_test/255\n",
    "x_train = x_train/255\n",
    "\n",
    "print(x_test.shape)\n",
    "print(x_train[:,0])\n",
    "print(y_train.shape)\n",
    "print(y_test.shape)"
   ]
  },
  {
   "cell_type": "code",
   "execution_count": 201,
   "metadata": {},
   "outputs": [],
   "source": [
    "def sigmoid(z):\n",
    "    \n",
    "    s = 1/(1+np.exp(-z))\n",
    "    \n",
    "    return s\n",
    "\n",
    "def initialize_parameters(dims):\n",
    "    \n",
    "    w = np.random.randn(dims, 1) * 0.01\n",
    "    b = 0\n",
    "    \n",
    "    return w, b\n",
    "\n",
    "def predict(w,b,X):\n",
    "    \n",
    "    m = X.shape[1]\n",
    "    Y_prediction = np.zeros((1,m))\n",
    "    \n",
    "    A = sigmoid(np.dot(w.T,X)+b)\n",
    "    \n",
    "    for i in range (A.shape[1]):\n",
    "        if A[0,i]<=0.5:\n",
    "            Y_prediction[0,i] = 0\n",
    "        else:\n",
    "            Y_prediction[0,i] = 1\n",
    "            \n",
    "    return Y_prediction"
   ]
  },
  {
   "cell_type": "code",
   "execution_count": 203,
   "metadata": {},
   "outputs": [
    {
     "name": "stdout",
     "output_type": "stream",
     "text": [
      "Cost after iteration 0: 0.5882800187659248\n",
      "Cost after iteration 100: 0.3646001774922321\n",
      "Cost after iteration 200: 0.34223852894373\n",
      "Cost after iteration 300: 0.33749837661182164\n",
      "Cost after iteration 400: 0.33608112318425\n",
      "Cost after iteration 500: 0.33548882466595553\n",
      "Cost after iteration 600: 0.3351309699485655\n",
      "Cost after iteration 700: 0.33484671436126673\n",
      "Cost after iteration 800: 0.334588863563203\n",
      "Cost after iteration 900: 0.33434293705945045\n",
      "Train Accuracy: 89.84\n",
      "Test Accuracy: 90.0\n"
     ]
    }
   ],
   "source": [
    "def result(X, Y, Xtest, Ytest, iterations, learning_rate):\n",
    "    \n",
    "    m = X.shape[1]\n",
    "    \n",
    "    w, b = initialize_parameters(X.shape[0])\n",
    "    \n",
    "    for i in range(iterations):\n",
    "        \n",
    "        #forward propagation\n",
    "        A = sigmoid(np.dot(w.T,X)+b)   \n",
    "        cost = -(1/m)* np.sum(Y*np.log(A) + (1 - Y)*np.log(1-A))\n",
    "        #backward propagation\n",
    "        dw = (1/m)*np.dot(X,(A-Y).T)\n",
    "        db = (1/m)*np.sum(A-Y)\n",
    "        w = w - learning_rate * dw\n",
    "        b = b - learning_rate * db\n",
    "        \n",
    "        if i % 100 == 0:\n",
    "            print (\"Cost after iteration \" + str(i) + \": \" + str(cost))\n",
    "        \n",
    "    TrainP = predict(w, b, X)\n",
    "    TestP = predict(w, b, Xtest)\n",
    "    \n",
    "    Train_prediction = print(\"Train Accuracy: \" + format(100 - np.mean(np.abs(TrainP - Y)*100)))\n",
    "    Test_prediction = print(\"Test Accuracy: \" + format(100 - np.mean(np.abs(TestP - Ytest)*100)))\n",
    "    \n",
    "\n",
    "result(x_train, y_train, x_test, y_test, iterations = 1000, learning_rate = 0.0001)"
   ]
  },
  {
   "cell_type": "code",
   "execution_count": null,
   "metadata": {},
   "outputs": [],
   "source": []
  },
  {
   "cell_type": "code",
   "execution_count": null,
   "metadata": {},
   "outputs": [],
   "source": []
  }
 ],
 "metadata": {
  "kernelspec": {
   "display_name": "Python 3",
   "language": "python",
   "name": "python3"
  },
  "language_info": {
   "codemirror_mode": {
    "name": "ipython",
    "version": 3
   },
   "file_extension": ".py",
   "mimetype": "text/x-python",
   "name": "python",
   "nbconvert_exporter": "python",
   "pygments_lexer": "ipython3",
   "version": "3.5.5"
  }
 },
 "nbformat": 4,
 "nbformat_minor": 2
}
